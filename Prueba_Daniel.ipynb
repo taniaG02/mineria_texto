{
 "cells": [
  {
   "cell_type": "markdown",
   "id": "01aa1a1d",
   "metadata": {},
   "source": [
    "Prueba_Dani\n"
   ]
  },
  {
   "cell_type": "code",
   "execution_count": 1,
   "id": "02c7da14",
   "metadata": {},
   "outputs": [
    {
     "name": "stderr",
     "output_type": "stream",
     "text": [
      "[nltk_data] Downloading package wordnet to C:\\Users\\Daniel\n",
      "[nltk_data]     Parra\\AppData\\Roaming\\nltk_data...\n",
      "[nltk_data]   Package wordnet is already up-to-date!\n"
     ]
    }
   ],
   "source": [
    "# Paquetes del notebook visto en clase\n",
    "import nltk\n",
    "nltk.download('wordnet')\n",
    "from nltk.corpus import wordnet as wn\n",
    "\n",
    "# Cargamos otros paquetes que nos pueden ser útiles\n",
    "import pandas as pd"
   ]
  },
  {
   "cell_type": "markdown",
   "id": "3ab8f719",
   "metadata": {},
   "source": [
    "\n",
    "# Paso 1\n",
    "Hay que cargar el archivo `NRC-EmoLex.txt` y decidir cómo organizarlo para que tenga un acceso rápido en memoria. (Este archivo lo obtivimos borrando la última columna que se correspondía a su traducción al español).\n"
   ]
  },
  {
   "cell_type": "code",
   "execution_count": null,
   "id": "eaf083f6",
   "metadata": {},
   "outputs": [
    {
     "name": "stdout",
     "output_type": "stream",
     "text": [
      "  English Word  anger  anticipation  disgust  fear  joy  negative  positive  \\\n",
      "0        aback      0             0        0     0    0         0         0   \n",
      "1       abacus      0             0        0     0    0         0         0   \n",
      "2      abandon      0             0        0     1    0         1         0   \n",
      "3    abandoned      1             0        0     1    0         1         0   \n",
      "4  abandonment      1             0        0     1    0         1         0   \n",
      "\n",
      "   sadness  surprise  trust  \n",
      "0        0         0      0  \n",
      "1        0         0      1  \n",
      "2        1         0      0  \n",
      "3        1         0      0  \n",
      "4        1         1      0  \n"
     ]
    }
   ],
   "source": [
    "Tabla_emo=pd.read_csv('NRC-EmoLex.txt', sep='\\t')\n",
    "print(Tabla_emo.head())\n",
    "\n",
    "## Podríamos eliminar las filas que sumen 0 para que \"sea una búsqueda más rápida\"\n"
   ]
  },
  {
   "cell_type": "code",
   "execution_count": null,
   "id": "4e865ffb",
   "metadata": {},
   "outputs": [
    {
     "name": "stdout",
     "output_type": "stream",
     "text": [
      "0              aback\n",
      "1             abacus\n",
      "2            abandon\n",
      "3          abandoned\n",
      "4        abandonment\n",
      "            ...     \n",
      "14149           zone\n",
      "14150            zoo\n",
      "14151     zoological\n",
      "14152        zoology\n",
      "14153           zoom\n",
      "Name: English Word, Length: 14154, dtype: object\n",
      "0         True\n",
      "1        False\n",
      "2        False\n",
      "3        False\n",
      "4        False\n",
      "         ...  \n",
      "14149    False\n",
      "14150    False\n",
      "14151    False\n",
      "14152    False\n",
      "14153    False\n",
      "Name: English Word, Length: 14154, dtype: bool\n",
      "  English Word  anger  anticipation  disgust  fear  joy  negative  positive  \\\n",
      "0        aback      0             0        0     0    0         0         0   \n",
      "\n",
      "   sadness  surprise  trust  \n",
      "0        0         0      0  \n",
      "Index(['fear', 'negative', 'sadness'], dtype='object')\n"
     ]
    }
   ],
   "source": [
    "print(Tabla_emo.iloc[:, 0])\n",
    "print(Tabla_emo.iloc[:, 0]=='aback')\n",
    "print(Tabla_emo[Tabla_emo.iloc[:, 0]=='aback'])\n",
    "prueba=Tabla_emo[Tabla_emo.iloc[:, 0]=='abandon']\n",
    "print(prueba.columns[(prueba==1).any()]) ## Para saber el tipo de emoción\n",
    "\n",
    "#print(Tabla_emo[Tabla_emo.iloc[:, 0]=='abandon', Tabla_emo.iloc[Tabla_emo.iloc[:, 0]=='abandon', 1:]==1])"
   ]
  },
  {
   "cell_type": "markdown",
   "id": "24ccbf77",
   "metadata": {},
   "source": [
    "Ahora preparamos una función capaz de identificar la emoción"
   ]
  },
  {
   "cell_type": "code",
   "execution_count": null,
   "id": "8b6219af",
   "metadata": {},
   "outputs": [
    {
     "name": "stdout",
     "output_type": "stream",
     "text": [
      "  English Word  anger  anticipation  disgust  fear  joy  negative  positive  \\\n",
      "0        aback      0             0        0     0    0         0         0   \n",
      "\n",
      "   sadness  surprise  trust  \n",
      "0        0         0      0  \n"
     ]
    }
   ],
   "source": [
    "def get_emo(palabra):\n",
    "    Emo=\n",
    "    fila=Tabla_emo[Tabla_emo.iloc[:, 0]==palabra]\n",
    "    print(fila)\n",
    "    if sum(Tabla_emo.iloc[:, 1:])==0:\n",
    "        print(\"No hay una emoción con la que se corresponda\")\n",
    "\n",
    "Emo=get_emo('aback')\n",
    "print(Emo)"
   ]
  },
  {
   "cell_type": "markdown",
   "id": "b40bb26b",
   "metadata": {},
   "source": [
    "# Paso 2\n",
    "Utilizar WordNet desde NLTK paraincluir sinónimos, hipónimos, hiperónimos y palabras derivadas en la tabla."
   ]
  }
 ],
 "metadata": {
  "kernelspec": {
   "display_name": "Python 3",
   "language": "python",
   "name": "python3"
  },
  "language_info": {
   "codemirror_mode": {
    "name": "ipython",
    "version": 3
   },
   "file_extension": ".py",
   "mimetype": "text/x-python",
   "name": "python",
   "nbconvert_exporter": "python",
   "pygments_lexer": "ipython3",
   "version": "3.12.8"
  }
 },
 "nbformat": 4,
 "nbformat_minor": 5
}
