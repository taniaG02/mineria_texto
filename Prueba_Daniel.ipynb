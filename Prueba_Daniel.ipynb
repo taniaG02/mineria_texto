{
 "cells": [
  {
   "cell_type": "markdown",
   "id": "01aa1a1d",
   "metadata": {},
   "source": [
    "Prueba_Dani\n"
   ]
  },
  {
   "cell_type": "code",
   "execution_count": null,
   "id": "02c7da14",
   "metadata": {},
   "outputs": [],
   "source": [
    "# Paquetes del notebook visto en clase\n"
   ]
  },
  {
   "cell_type": "markdown",
   "id": "3ab8f719",
   "metadata": {},
   "source": [
    "\n",
    "# Paso 1\n",
    "Hay que cargar el archivo `NRC-EmoLex.txt` y decidir cómo organizarlo para que tenga un acceso rápido en memoria\n"
   ]
  }
 ],
 "metadata": {
  "language_info": {
   "name": "python"
  }
 },
 "nbformat": 4,
 "nbformat_minor": 5
}
